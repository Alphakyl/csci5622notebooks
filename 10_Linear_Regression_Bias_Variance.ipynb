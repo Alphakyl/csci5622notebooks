{
 "cells": [
  {
   "cell_type": "markdown",
   "metadata": {},
   "source": [
    "# Lecture 10: Linear Regresion and the Bias-Variance Trade-Off\n",
    "***\n",
    "\n",
    "<img src=\"figs/targetsBannerTry.png\",width=1100,height=50>"
   ]
  },
  {
   "cell_type": "markdown",
   "metadata": {},
   "source": [
    "***\n",
    "\n",
    "<br>\n",
    "<br>\n",
    "\n",
    "### Problem 1: Interpreting Regression Models \n",
    "***\n",
    "\n",
    "*This problem was taken from **Introduction to Statistical Learning** by James et. al. *\n",
    "\n",
    "Suppose we have a data set with five features, $x_1 = GPA$, $x_2 =  IQ$, $x_3 = Gender$ (0 for Male, 1 for Female), $x_4 = GPA \\times IQ$, and $x_5 = GPA \\times Gender$.  The response is starting salary after graduation (in thousands of dollars).  Suppose we use least squares to fit the model, and get the following estimates of the regression parameters; $\\hat{w}_0 = 50$,  $\\hat{w}_1 = 20$,  $\\hat{w}_2 = 0.07$,  $\\hat{w}_3 = 35$,  $\\hat{w}_4 = 0.01$, and $\\hat{w}_5 = -10$.  \n",
    "\n",
    "<br>\n",
    "\n",
    "**Q**: Predict the salary of a female with IQ of 110 and a GPA of 4.0. \n",
    "\n",
    "<br>\n",
    "\n",
    "**Q**: Which of the following statements are correct, and why? \n",
    "\n",
    "i. For a fixed value of IQ and GPA, males earn more on average than females.\n",
    "\n",
    "ii. For a fixed value of IQ and GPA, females earn more on average than males.\n",
    "\n",
    "iii. For a fixed value of IQ and GPA, males earn more on average than females provided that the GPA is high enough. \n",
    "\n",
    "iv. For a fixed value of IQ and GPA, females earn more on average than males provided that the GPA is high enough. \n",
    "\n",
    "<br>\n",
    "\n",
    "[[Problem 1 Answers]](#prob1ans)\n",
    "\n",
    "<br>"
   ]
  },
  {
   "cell_type": "markdown",
   "metadata": {},
   "source": [
    "### Problem 2: Multiple Linear Regression on Advertising Data \n",
    "***\n",
    "\n",
    "In this problem you will perform linear and multiple linear regression on a real-world data set describing the effect of advertisement spending on the sales of a product.  First we need to load the data. "
   ]
  },
  {
   "cell_type": "code",
   "execution_count": null,
   "metadata": {
    "collapsed": false
   },
   "outputs": [],
   "source": [
    "import numpy as np \n",
    "D = np.genfromtxt('data/Advertising.csv', delimiter=',')\n",
    "X, y = D[:,:3], D[:,3]"
   ]
  },
  {
   "cell_type": "markdown",
   "metadata": {},
   "source": [
    "Each row in the data matrix $X$ contains advertising budgets for a particular market. The ﬁrst through third columns report advertising budgets for TV, Radio, and Newspaper, respectively, in units of thousands of dollars.  The entries of $y$ give the product sales for each market (in thousands of products sold). \n",
    "\n",
    "\n",
    "We’ll now use linear and multiple linear regression to attempt to determine what (if any) eﬀect advertising has on product sales. We’ll start by looking at the relationship between the sales numbers and each of the advertisement mediums separately. Then we’ll look at the relationship between sales and all of the advertisement mediums together."
   ]
  },
  {
   "cell_type": "code",
   "execution_count": null,
   "metadata": {
    "collapsed": true
   },
   "outputs": [],
   "source": [
    "from sklearn.linear_model import LinearRegression"
   ]
  },
  {
   "cell_type": "code",
   "execution_count": null,
   "metadata": {
    "collapsed": false
   },
   "outputs": [],
   "source": [
    "regrTV = LinearRegression()\n",
    "regrTV.fit(X[:,0].reshape(-1,1), y)\n",
    "print \"sales = \", regrTV.intercept_, \" + \", regrTV.coef_[0], \" x TV\"\n",
    "\n",
    "regrRadio = LinearRegression()\n",
    "regrRadio.fit(X[:,1].reshape(-1,1), y)\n",
    "print \"sales = \", regrRadio.intercept_, \" + \", regrRadio.coef_[0], \" x Radio\"\n",
    "\n",
    "regrNews = LinearRegression()\n",
    "regrNews.fit(X[:,2].reshape(-1,1), y)\n",
    "print \"sales = \", regrNews.intercept_, \" + \", regrNews.coef_[0], \" x Newspaper\""
   ]
  },
  {
   "cell_type": "markdown",
   "metadata": {},
   "source": [
    "You can visualize the three linear regressions by running the code below. "
   ]
  },
  {
   "cell_type": "code",
   "execution_count": null,
   "metadata": {
    "collapsed": false
   },
   "outputs": [],
   "source": [
    "import matplotlib.pyplot as plt\n",
    "%matplotlib inline\n",
    "mycolors = {\"blue\": \"steelblue\", \"red\": \"#a76c6e\", \"green\": \"#6a9373\"}\n",
    "fig = plt.figure(figsize=(14,4))\n",
    "ax1 = fig.add_subplot(131)\n",
    "ax2 = fig.add_subplot(132)\n",
    "ax3 = fig.add_subplot(133)\n",
    "axes = [ax1, ax2, ax3]\n",
    "regrs = [regrTV, regrRadio, regrNews]\n",
    "features = [\"TV\", \"Radio\", \"Newspaper\"]\n",
    "\n",
    "ax1.set_ylim(0,30)\n",
    "ax1.set_ylabel(\"Sales\")\n",
    "for jj, (ax, regr, feat) in enumerate(zip(axes, regrs, features)):\n",
    "    ax.grid(True)\n",
    "    ax.set_xlim(0, np.max(X[:,jj]))\n",
    "    ax.set_xlabel(feat, fontsize=20)\n",
    "    ax.scatter(X[:,jj], y, s=25, color=mycolors[\"blue\"], alpha=0.7)\n",
    "    x = np.linspace(0, np.max(X[:,jj]))\n",
    "    ax.plot(x, regr.intercept_ + regr.coef_[0]*x, lw=3, color=mycolors[\"blue\"])"
   ]
  },
  {
   "cell_type": "markdown",
   "metadata": {},
   "source": [
    "**Q**: Based on the individual linear regressions, what is the relationship between TV, Radio, Newspaper and Sales?  Based on the individual analyses, does it seem likely that advertising in each media market contributes to increased sales of the product?   "
   ]
  },
  {
   "cell_type": "markdown",
   "metadata": {},
   "source": [
    "<br>\n",
    "\n",
    "Now we'll fit a multiple linear regression model for the three features simultaneously. "
   ]
  },
  {
   "cell_type": "code",
   "execution_count": null,
   "metadata": {
    "collapsed": false
   },
   "outputs": [],
   "source": [
    "regrAll = LinearRegression()\n",
    "regrAll.fit(X, y)\n",
    "print \"sales = \", regrAll.intercept_, \" + \", regrAll.coef_[0], \" x TV + \", \\\n",
    "       regrAll.coef_[1], \" x Radio + \", \\\n",
    "       regrAll.coef_[2], \" x Newspaper\""
   ]
  },
  {
   "cell_type": "markdown",
   "metadata": {},
   "source": [
    "**Q**: Based on the multiple linear regression model, what is the relationship between TV, Radio, and Newspaper advertising and Sales?  Based on the coefficients in your model, does it appear that all of the advertising mediums contribute significantly to an increase in products sold? "
   ]
  },
  {
   "cell_type": "markdown",
   "metadata": {},
   "source": [
    "**Q**:  It appears that something fishy might be going on here.  Let's look at the correlation between each of the features and sales. "
   ]
  },
  {
   "cell_type": "code",
   "execution_count": null,
   "metadata": {
    "collapsed": false
   },
   "outputs": [],
   "source": [
    "print np.corrcoef(X.T, y)"
   ]
  },
  {
   "cell_type": "markdown",
   "metadata": {},
   "source": [
    "Based on the correlation of the features, can you explain the disparity in model coefficients in the single linear regression and multiple linear regression settings? "
   ]
  },
  {
   "cell_type": "markdown",
   "metadata": {},
   "source": [
    "<br>\n",
    "\n",
    "[[Problem 2 Answers]](#prob2ans)\n",
    "\n",
    "<br>"
   ]
  },
  {
   "cell_type": "markdown",
   "metadata": {},
   "source": [
    "\n",
    "<br>\n",
    "<br>\n",
    "\n",
    "### Problem 3: The Bias-Variance Trade-Off \n",
    "***\n",
    "\n",
    "**Q**: The following graphic (from Scott Fortman-Roe's [*Understanding the Bias-Variance Trade-Off*](http://scott.fortmann-roe.com/docs/BiasVariance.html)) makes an analogy between target shooting and models of varying bias/variance.  Which target corresponds to each of the four possible combinations of high/low bias and high/low variance?  \n",
    "\n",
    "<img style=\"float:center;width:500px;margin-right:300\" src=\"figs/targetsSquareNo.jpg\">\n"
   ]
  },
  {
   "cell_type": "markdown",
   "metadata": {},
   "source": [
    "**Q**:  Consider the K-Nearest Neighbor models shown below corresponding to $K=1$ and $K=15$, respectively.  Discuss the effect of $K$ on the bias and variance of the KNN model.  \n",
    "\n",
    "\n",
    "K = 1             |  K = 15\n",
    ":-------------------------:|:-------------------------:\n",
    "![](figs/hastieKNN1.png)  |  ![](figs/hastieKNN15.png)"
   ]
  },
  {
   "cell_type": "markdown",
   "metadata": {},
   "source": [
    "**Q**: Consider the standard soft-margin SVM with objective function \n",
    "\n",
    "$$\n",
    "\\min_{{\\bf w}, b} \\|{\\bf w}\\|^2 + C \\sum_{i=1}^m \\xi_i \n",
    "$$\n",
    "\n",
    "How does the choice of **kernel** function affect the bias/variance of the model?  \n",
    "\n",
    "Similarly, for a **fixed** kernel type, how does the value of $C$ affect the bias/variance of the model? \n",
    "\n",
    "<br>\n",
    "\n",
    "[[Problem 3 Answers]](#prob3ans)\n",
    "\n",
    "<br>"
   ]
  },
  {
   "cell_type": "markdown",
   "metadata": {},
   "source": [
    "***\n",
    "\n",
    "<br><br><br><br><br><br><br><br>\n",
    "<br><br><br><br><br><br><br><br>\n",
    "\n",
    "<a id='prob1ans'></a>"
   ]
  },
  {
   "cell_type": "markdown",
   "metadata": {},
   "source": [
    "\n",
    "### Problem 1: Interpreting Regression Models \n",
    "***\n",
    "\n",
    "*This problem was taken from **Introduction to Statistical Learning** by James et. al. *\n",
    "\n",
    "Suppose we have a data set with five features, $x_1 = GPA$, $x_2 =  IQ$, $x_3 = Gender$ (0 for Male, 1 for Female), $x_4 = GPA \\times IQ$, and $x_5 = GPA \\times Gender$.  The response is starting salary after graduation (in thousands of dollars).  Suppose we use least squares to fit the model, and get the following estimates of the regression parameters; $\\hat{w}_0 = 50$,  $\\hat{w}_1 = 20$,  $\\hat{w}_2 = 0.07$,  $\\hat{w}_3 = 35$,  $\\hat{w}_4 = 0.01$, and $\\hat{w}_5 = -10$.  \n",
    "\n",
    "<br>\n",
    "\n",
    "**Q**: Predict the salary of a female with IQ of 110 and a GPA of 4.0. \n",
    "\n",
    "<br>\n",
    "\n",
    "**Q**: Which of the following statements are correct, and why? \n",
    "\n",
    "i. For a fixed value of IQ and GPA, males earn more on average than females.\n",
    "\n",
    "ii. For a fixed value of IQ and GPA, females earn more on average than males.\n",
    "\n",
    "iii. For a fixed value of IQ and GPA, males earn more on average than females provided that the GPA is high enough. \n",
    "\n",
    "iv. For a fixed value of IQ and GPA, females earn more on average than males provided that the GPA is high enough. \n",
    "\n",
    "\n",
    "<br>"
   ]
  },
  {
   "cell_type": "markdown",
   "metadata": {},
   "source": [
    "<a id='prob2ans'></a>"
   ]
  },
  {
   "cell_type": "markdown",
   "metadata": {},
   "source": [
    "### Problem 2: Multiple Linear Regression on Advertising Data \n",
    "***\n",
    "\n",
    "In this problem you will perform linear and multiple linear regression on a real-world data set describing the effect of advertisement spending on the sales of a product.  First we need to load the data. "
   ]
  },
  {
   "cell_type": "code",
   "execution_count": 1,
   "metadata": {
    "collapsed": false
   },
   "outputs": [],
   "source": [
    "import numpy as np \n",
    "D = np.genfromtxt('data/Advertising.csv', delimiter=',')\n",
    "X, y = D[:,:3], D[:,3]"
   ]
  },
  {
   "cell_type": "markdown",
   "metadata": {},
   "source": [
    "Each row in the data matrix $X$ contains advertising budgets for a particular market. The ﬁrst through third columns report advertising budgets for TV, Radio, and Newspaper, respectively, in units of thousands of dollars.  The entries of $y$ give the product sales for each market (in thousands of products sold). \n",
    "\n",
    "\n",
    "We’ll now use linear and multiple linear regression to attempt to determine what (if any) eﬀect advertising has on product sales. We’ll start by looking at the relationship between the sales numbers and each of the advertisement mediums separately. Then we’ll look at the relationship between sales and all of the advertisement mediums together."
   ]
  },
  {
   "cell_type": "code",
   "execution_count": 2,
   "metadata": {
    "collapsed": true
   },
   "outputs": [],
   "source": [
    "from sklearn.linear_model import LinearRegression"
   ]
  },
  {
   "cell_type": "code",
   "execution_count": 3,
   "metadata": {
    "collapsed": false
   },
   "outputs": [
    {
     "name": "stdout",
     "output_type": "stream",
     "text": [
      "sales =  7.03259354913  +  0.047536640433  x TV\n",
      "sales =  9.31163809516  +  0.202495783392  x Radio\n",
      "sales =  12.3514070693  +  0.0546930984723  x Newspaper\n"
     ]
    }
   ],
   "source": [
    "regrTV = LinearRegression()\n",
    "regrTV.fit(X[:,0].reshape(-1,1), y)\n",
    "print \"sales = \", regrTV.intercept_, \" + \", regrTV.coef_[0], \" x TV\"\n",
    "\n",
    "regrRadio = LinearRegression()\n",
    "regrRadio.fit(X[:,1].reshape(-1,1), y)\n",
    "print \"sales = \", regrRadio.intercept_, \" + \", regrRadio.coef_[0], \" x Radio\"\n",
    "\n",
    "regrNews = LinearRegression()\n",
    "regrNews.fit(X[:,2].reshape(-1,1), y)\n",
    "print \"sales = \", regrNews.intercept_, \" + \", regrNews.coef_[0], \" x Newspaper\""
   ]
  },
  {
   "cell_type": "markdown",
   "metadata": {},
   "source": [
    "You can visualize the three linear regressions by running the code below. "
   ]
  },
  {
   "cell_type": "code",
   "execution_count": 4,
   "metadata": {
    "collapsed": false
   },
   "outputs": [
    {
     "data": {
      "image/png": "[encoded data removed]",
      "text/plain": [
       "<matplotlib.figure.Figure at 0x10d46ea10>"
      ]
     },
     "metadata": {},
     "output_type": "display_data"
    }
   ],
   "source": [
    "import matplotlib.pyplot as plt\n",
    "%matplotlib inline\n",
    "mycolors = {\"blue\": \"steelblue\", \"red\": \"#a76c6e\", \"green\": \"#6a9373\"}\n",
    "fig = plt.figure(figsize=(14,4))\n",
    "ax1 = fig.add_subplot(131)\n",
    "ax2 = fig.add_subplot(132)\n",
    "ax3 = fig.add_subplot(133)\n",
    "axes = [ax1, ax2, ax3]\n",
    "regrs = [regrTV, regrRadio, regrNews]\n",
    "features = [\"TV\", \"Radio\", \"Newspaper\"]\n",
    "\n",
    "ax1.set_ylim(0,30)\n",
    "ax1.set_ylabel(\"Sales\")\n",
    "for jj, (ax, regr, feat) in enumerate(zip(axes, regrs, features)):\n",
    "    ax.grid(True)\n",
    "    ax.set_xlim(0, np.max(X[:,jj]))\n",
    "    ax.set_xlabel(feat, fontsize=20)\n",
    "    ax.scatter(X[:,jj], y, s=25, color=mycolors[\"blue\"], alpha=0.7)\n",
    "    x = np.linspace(0, np.max(X[:,jj]))\n",
    "    ax.plot(x, regr.intercept_ + regr.coef_[0]*x, lw=3, color=mycolors[\"blue\"])"
   ]
  },
  {
   "cell_type": "markdown",
   "metadata": {},
   "source": [
    "**Q**: Based on the individual linear regressions, what is the relationship between TV, Radio, Newspaper and Sales?  Based on the individual analyses, does it seem likely that advertising in each media market contributes to increased sales of the product?   "
   ]
  },
  {
   "cell_type": "markdown",
   "metadata": {},
   "source": [
    "<br>\n",
    "\n",
    "Now we'll fit a multiple linear regression model for the three features simultaneously. "
   ]
  },
  {
   "cell_type": "code",
   "execution_count": null,
   "metadata": {
    "collapsed": false
   },
   "outputs": [],
   "source": [
    "regrAll = LinearRegression()\n",
    "regrAll.fit(X, y)\n",
    "print \"sales = \", regrAll.intercept_, \" + \", regrAll.coef_[0], \" x TV + \", \\\n",
    "       regrAll.coef_[1], \" x Radio + \", \\\n",
    "       regrAll.coef_[2], \" x Newspaper\""
   ]
  },
  {
   "cell_type": "markdown",
   "metadata": {},
   "source": [
    "**Q**: Based on the multiple linear regression model, what is the relationship between TV, Radio, and Newspaper advertising and Sales?  Based on the coefficients in your model, does it appear that all of the advertising mediums contribute significantly to an increase in products sold? "
   ]
  },
  {
   "cell_type": "markdown",
   "metadata": {},
   "source": [
    "**Q**:  It appears that something fishy might be going on here.  Let's look at the correlation between each of the features and sales. "
   ]
  },
  {
   "cell_type": "code",
   "execution_count": null,
   "metadata": {
    "collapsed": false
   },
   "outputs": [],
   "source": [
    "print np.corrcoef(X.T, y)"
   ]
  },
  {
   "cell_type": "markdown",
   "metadata": {},
   "source": [
    "Based on the correlation of the features, can you explain the disparity in model coefficients in the single linear regression and multiple linear regression settings? "
   ]
  },
  {
   "cell_type": "markdown",
   "metadata": {},
   "source": [
    "<a id='prob3ans'></a>"
   ]
  },
  {
   "cell_type": "markdown",
   "metadata": {},
   "source": [
    "\n",
    "<br>\n",
    "<br>\n",
    "\n",
    "### Problem 3: The Bias-Variance Trade-Off \n",
    "***\n",
    "\n",
    "**Q**: The following graphic (from Scott Fortman-Roe's [*Understanding the Bias-Variance Trade-Off*](http://scott.fortmann-roe.com/docs/BiasVariance.html)) makes an analogy between target shooting and models of varying bias/variance.  Which target corresponds to each of the four possible combinations of high/low bias and high/low variance?  \n",
    "\n",
    "<img style=\"float:center;width:500px;margin-right:300\" src=\"figs/targetsSquareNo.jpg\">\n"
   ]
  },
  {
   "cell_type": "markdown",
   "metadata": {},
   "source": [
    "**Q**:  Consider the K-Nearest Neighbor models shown below corresponding to $K=1$ and $K=15$, respectively.  Discuss the effect of $K$ on the bias and variance of the KNN model.  \n",
    "\n",
    "\n",
    "K = 1             |  K = 15\n",
    ":-------------------------:|:-------------------------:\n",
    "![](figs/hastieKNN1.png)  |  ![](figs/hastieKNN15.png)"
   ]
  },
  {
   "cell_type": "markdown",
   "metadata": {},
   "source": [
    "**Q**: Consider the standard soft-margin SVM with objective function \n",
    "\n",
    "$$\n",
    "\\min_{{\\bf w}, b} \\|{\\bf w}\\|^2 + C \\sum_{i=1}^m \\xi_i \n",
    "$$\n",
    "\n",
    "How does the choice of **kernel** function affect the bias/variance of the model?  \n",
    "\n",
    "Similarly, for a **fixed** kernel type, how does the value of $C$ affect the bias/variance of the model? "
   ]
  },
  {
   "cell_type": "markdown",
   "metadata": {},
   "source": [
    "<br><br><br><br>\n",
    "<br><br><br><br>\n",
    "<br><br><br><br>\n",
    "\n",
    "### Helper Functions\n",
    "***"
   ]
  },
  {
   "cell_type": "code",
   "execution_count": 1,
   "metadata": {
    "collapsed": false
   },
   "outputs": [
    {
     "data": {
      "text/html": [
       "\n",
       "<style>\n",
       ".MathJax nobr>span.math>span{border-left-width:0 !important};\n",
       "</style>\n"
      ],
      "text/plain": [
       "<IPython.core.display.HTML object>"
      ]
     },
     "execution_count": 1,
     "metadata": {},
     "output_type": "execute_result"
    }
   ],
   "source": [
    "from IPython.core.display import HTML\n",
    "HTML(\"\"\"\n",
    "<style>\n",
    ".MathJax nobr>span.math>span{border-left-width:0 !important};\n",
    "</style>\n",
    "\"\"\")"
   ]
  }
 ],
 "metadata": {
  "kernelspec": {
   "display_name": "Python 2",
   "language": "python",
   "name": "python2"
  },
  "language_info": {
   "codemirror_mode": {
    "name": "ipython",
    "version": 2
   },
   "file_extension": ".py",
   "mimetype": "text/x-python",
   "name": "python",
   "nbconvert_exporter": "python",
   "pygments_lexer": "ipython2",
   "version": "2.7.12"
  }
 },
 "nbformat": 4,
 "nbformat_minor": 0
}
