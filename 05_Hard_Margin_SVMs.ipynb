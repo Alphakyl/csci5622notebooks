{
 "cells": [
  {
   "cell_type": "markdown",
   "metadata": {},
   "source": [
    "# Lecture 5: Hard-Margin SVM and General Linear Classifiers\n",
    "***\n",
    "\n",
    "<img src=\"figs/cogs.jpg\",width=1100,height=50>"
   ]
  },
  {
   "cell_type": "markdown",
   "metadata": {},
   "source": [
    "### Problem 1: Finding the Maximum Margin Hyperplane Geometrically\n",
    "***\n",
    "\n",
    "Suppose you have the following training examples: "
   ]
  },
  {
   "cell_type": "code",
   "execution_count": 74,
   "metadata": {
    "collapsed": false
   },
   "outputs": [
    {
     "data": {
      "image/png": "[encoded data removed]",
      "text/plain": [
       "<matplotlib.figure.Figure at 0x10f6c9bd0>"
      ]
     },
     "metadata": {},
     "output_type": "display_data"
    }
   ],
   "source": [
    "prob1plot()"
   ]
  },
  {
   "cell_type": "markdown",
   "metadata": {},
   "source": [
    "**Q**: Find the maximum margin hyperplane of the form ${\\bf w}^T{\\bf x} + b = 0$ such that the support vectors lie on ${\\bf w}^T{\\bf x} + b = \\pm 1$"
   ]
  },
  {
   "cell_type": "markdown",
   "metadata": {},
   "source": [
    "Notice that the distance between ${\\bf x}_3$ and the other points are \n",
    "\n",
    "<br>\n",
    "\n",
    "$$\n",
    "\\|{\\bf x}_3 - {\\bf x}_1\\| = 3\n",
    "\\quad \\textrm{and} \\quad \n",
    "\\|{\\bf x}_3 - {\\bf x}_2\\| = \\sqrt{5} \n",
    "$$\n",
    "\n",
    "<br>\n",
    "\n",
    "Since ${\\bf x}_3$ is closer to ${\\bf x}_2$ than ${\\bf x}_1$ the vector ${\\bf w}$ will be proportional to the vector pointing from ${\\bf x}_2$ to ${\\bf x}_3$, which is ${\\bf w} = [1 ~~ 2]^T$.  Let's stick with this form the weight vector and determine $b$ such that ${\\bf w}^T{\\bf x} + b$ splits the difference between ${\\bf x}_2$ and ${\\bf x}_3$.  \n",
    "\n",
    "Such a decision boundary necessarily will pass through the midpoint between ${\\bf x}_2$ and ${\\bf x}_3$.  That midpoint is \n",
    "\n",
    "<br>\n",
    "\n",
    "$$\n",
    "{\\bf x}_m = \\frac{1}{2} \\left( \n",
    "\\left[\n",
    "\\begin{array}{r}\n",
    "1 \\\\ 1\n",
    "\\end{array}\n",
    "\\right]\n",
    "+\n",
    "\\left[\n",
    "\\begin{array}{r}\n",
    "2 \\\\ 3\n",
    "\\end{array}\n",
    "\\right]\n",
    "\\right)\n",
    "= \n",
    "\\left[\n",
    "\\begin{array}{r}\n",
    "3/2 \\\\ 2\n",
    "\\end{array}\n",
    "\\right]\n",
    "$$\n",
    "\n",
    "<br>\n",
    "\n",
    "We now want to choose $b$ such that the midpoint ${\\bf x}_m$ satisfies ${\\bf w}^T{\\bf x} + b = 0$.  Plugging in ${\\bf x}_m$ we have \n",
    "\n",
    "<br>\n",
    "\n",
    "$$\n",
    "{\\bf w}^T{\\bf x}_m + b = \n",
    "\\left[\n",
    "\\begin{array}{r}\n",
    "1 \\\\ 2\n",
    "\\end{array}\n",
    "\\right]\n",
    "\\cdot \n",
    "\\left[\n",
    "\\begin{array}{r}\n",
    "3/2 \\\\ 2\n",
    "\\end{array}\n",
    "\\right]\n",
    "+ b  = \n",
    "\\frac{11}{2} + b = 0 \n",
    "\\quad \\Rightarrow \\quad \n",
    "b = -\\frac{11}{2}\n",
    "$$\n",
    "\n",
    "<br>\n",
    "\n",
    "So our current form of the decision boundary is \n",
    "\n",
    "<br>\n",
    "\n",
    "$$\n",
    "{\\bf w}^T{\\bf x} + b = \n",
    "\\left[\n",
    "\\begin{array}{r}\n",
    "1 \\\\ 2\n",
    "\\end{array}\n",
    "\\right]\n",
    "\\cdot \n",
    "\\left[\n",
    "\\begin{array}{r}\n",
    "x_1 \\\\ x_2\n",
    "\\end{array}\n",
    "\\right] - \\frac{11}{2} = 0\n",
    "$$\n",
    "\n",
    "<br>\n",
    "\n",
    "\n",
    "Now, we want to scale ${\\bf w}$ and ${\\bf b}$ such that the points ${\\bf x}_3$ and ${\\bf x}_2$ satisfy ${\\bf w}^T{\\bf x} + b = \\pm 1$, respectively. Plugging ${\\bf x}_3$ into the formula gives \n",
    "\n",
    "<br>\n",
    "\n",
    "$$\n",
    "{\\bf w}^T{\\bf x}_3 + b =  \n",
    "\\left[\n",
    "\\begin{array}{r}\n",
    "1 \\\\ 2\n",
    "\\end{array}\n",
    "\\right]\n",
    "\\cdot \n",
    "\\left[\n",
    "\\begin{array}{r}\n",
    "2 \\\\3 \n",
    "\\end{array}\n",
    "\\right] - \\frac{11}{2} = 8 - \\frac{11}{2} = \\frac{5}{2}\n",
    "$$\n",
    "\n",
    "<br>\n",
    "\n",
    "If we haven't made any mistakes then we should get the same negative value for ${\\bf x}_2$.  Let's check it \n",
    "\n",
    "<br>\n",
    "\n",
    "$$\n",
    "{\\bf w}^T{\\bf x}_2 + b =  \n",
    "\\left[\n",
    "\\begin{array}{r}\n",
    "1 \\\\ 2\n",
    "\\end{array}\n",
    "\\right]\n",
    "\\cdot \n",
    "\\left[\n",
    "\\begin{array}{r}\n",
    "1 \\\\1 \n",
    "\\end{array}\n",
    "\\right] - \\frac{11}{2} = 3 - \\frac{11}{2} = -\\frac{5}{2}\n",
    "$$\n",
    "\n",
    "<br>\n",
    "\n",
    "OK, so to make the right-hand side values $\\pm 1$ for ${\\bf x}_3$ and ${\\bf x}_2$ we need to scale ${\\bf w}$ and $b$ by the reciprocal of $5/2$, which gives \n",
    "\n",
    "<br>\n",
    "\n",
    "$$\n",
    "{\\bf w} = \n",
    "\\left[\n",
    "\\begin{array}{r}\n",
    "2/5 \\\\ 4/5\n",
    "\\end{array}\n",
    "\\right]\n",
    "\\quad \\textrm{and} \\quad \n",
    "b = -\\frac{11}{5}\n",
    "$$\n",
    "\n",
    "<br>\n",
    "\n",
    "which gives us a decision boundary of the form ${\\bf w}^T{\\bf x} + b = \\frac{2}{5}x_1 + \\frac{4}{5}x_2 - \\frac{11}{5} = 0$\n",
    "\n",
    "The whole picture looks as follows:"
   ]
  },
  {
   "cell_type": "code",
   "execution_count": 104,
   "metadata": {
    "collapsed": false
   },
   "outputs": [
    {
     "data": {
      "image/png": "[encoded data removed]",
      "text/plain": [
       "<matplotlib.figure.Figure at 0x10f6bb4d0>"
      ]
     },
     "metadata": {},
     "output_type": "display_data"
    }
   ],
   "source": [
    "prob1sol()"
   ]
  },
  {
   "cell_type": "markdown",
   "metadata": {},
   "source": [
    "**Q**: Which training examples are support vectors? "
   ]
  },
  {
   "cell_type": "markdown",
   "metadata": {},
   "source": [
    "**A**: Remember that the support vectors are the training examples that are **margin** away from the decision boundary.  In this they are ${\\bf x}_2$ and ${\\bf x}_3$. "
   ]
  },
  {
   "cell_type": "markdown",
   "metadata": {},
   "source": [
    "**Q**: What is the maximal margin, $M$, in this example? "
   ]
  },
  {
   "cell_type": "markdown",
   "metadata": {},
   "source": [
    "**A**: The formula for the maximal margin is $M = \\frac{1}{\\|{\\bf w}\\|}$.  Here we have $\\|{\\bf w}\\| = \\frac{2}{\\sqrt{5}}$ which gives a margin of \n",
    "\n",
    "$$\n",
    "M = \\frac{1}{\\|{\\bf w}\\|} = \\frac{\\sqrt{5}}{2}\n",
    "$$\n",
    "\n",
    "Note that we could have guessed this at the beginning because we determined the distance between ${\\bf x}_2$ and ${\\bf x}_3$ to be $\\sqrt{5}$ and the margin should be half that distance. \n"
   ]
  },
  {
   "cell_type": "markdown",
   "metadata": {},
   "source": [
    "### Problem 2: Finding the Maximum Margin Hyperplane Geometrically\n",
    "***\n",
    "\n",
    "Suppose instead you have the following training examples: "
   ]
  },
  {
   "cell_type": "code",
   "execution_count": 78,
   "metadata": {
    "collapsed": false
   },
   "outputs": [
    {
     "data": {
      "image/png": "[encoded data removed]",
      "text/plain": [
       "<matplotlib.figure.Figure at 0x10fcb47d0>"
      ]
     },
     "metadata": {},
     "output_type": "display_data"
    }
   ],
   "source": [
    "prob2plot()"
   ]
  },
  {
   "cell_type": "markdown",
   "metadata": {},
   "source": [
    "**Q**: Find the maximum margin hyperplane of the form ${\\bf w}^T{\\bf x} + b = 0$ such that the support vectors lie on ${\\bf w}^T{\\bf x} + b = \\pm 1$"
   ]
  },
  {
   "cell_type": "markdown",
   "metadata": {},
   "source": [
    "Notice that this time the distance between ${\\bf x}_3$ and the other points are \n",
    "\n",
    "<br>\n",
    "\n",
    "$$\n",
    "\\|{\\bf x}_3 - {\\bf x}_1\\| = \\sqrt{5}\n",
    "\\quad \\textrm{and} \\quad \n",
    "\\|{\\bf x}_3 - {\\bf x}_2\\| = \\sqrt{5} \n",
    "$$\n",
    "\n",
    "<br>\n",
    "\n",
    "Since the distances are equal we'll take the weight vector ${\\bf w}$ will be proportional to the vector from midpoint of ${\\bf x}_1$ and ${\\bf x}_2$ to ${\\bf x}_3$.  That midpoint is ${\\bf x}_{12} = \\left[1/2 ~~ 1/2\\right]^T$. \n",
    "\n",
    "We can then start with a weight vector ${\\bf w} = [1 ~~ 1]^T$.  To determine $b$ we need to find the midpoint of the vector between ${\\bf x}_{12}$ and ${\\bf x}_3$.  We have \n",
    "\n",
    "\n",
    "<br>\n",
    "\n",
    "$$\n",
    "{\\bf x}_m = \\frac{1}{2} \\left( \n",
    "\\left[\n",
    "\\begin{array}{r}\n",
    "1/2 \\\\ 1/2\n",
    "\\end{array}\n",
    "\\right]\n",
    "+\n",
    "\\left[\n",
    "\\begin{array}{r}\n",
    "2 \\\\ 2\n",
    "\\end{array}\n",
    "\\right]\n",
    "\\right)\n",
    "= \n",
    "\\left[\n",
    "\\begin{array}{r}\n",
    "5/4 \\\\ 5/4\n",
    "\\end{array}\n",
    "\\right]\n",
    "$$\n",
    "\n",
    "<br>\n",
    "\n",
    "We now want to choose $b$ such that the midpoint ${\\bf x}_m$ satisfies ${\\bf w}^T{\\bf x} + b = 0$.  Plugging in ${\\bf x}_m$ we have \n",
    "\n",
    "<br>\n",
    "\n",
    "$$\n",
    "{\\bf w}^T{\\bf x}_m + b = \n",
    "\\left[\n",
    "\\begin{array}{r}\n",
    "1 \\\\ 1\n",
    "\\end{array}\n",
    "\\right]\n",
    "\\cdot \n",
    "\\left[\n",
    "\\begin{array}{r}\n",
    "5/4 \\\\ 5/4\n",
    "\\end{array}\n",
    "\\right]\n",
    "+ b  = \n",
    "\\frac{5}{2} + b = 0 \n",
    "\\quad \\Rightarrow \\quad \n",
    "b = -\\frac{5}{2}\n",
    "$$\n",
    "\n",
    "<br>\n",
    "\n",
    "So our current form of the decision boundary is \n",
    "\n",
    "<br>\n",
    "\n",
    "$$\n",
    "{\\bf w}^T{\\bf x} + b = \n",
    "\\left[\n",
    "\\begin{array}{r}\n",
    "1 \\\\ 1\n",
    "\\end{array}\n",
    "\\right]\n",
    "\\cdot \n",
    "\\left[\n",
    "\\begin{array}{r}\n",
    "x_1 \\\\ x_2\n",
    "\\end{array}\n",
    "\\right] - \\frac{5}{2} = 0\n",
    "$$\n",
    "\n",
    "<br>\n",
    "\n",
    "\n",
    "Now, we want to scale ${\\bf w}$ and ${\\bf b}$ such that the points ${\\bf x}_3$ and the points ${\\bf x}_1$ and ${\\bf x}_2$ satisfy ${\\bf w}^T{\\bf x} + b = \\pm 1$, respectively. Plugging ${\\bf x}_3$ into the formula gives \n",
    "\n",
    "<br>\n",
    "\n",
    "$$\n",
    "{\\bf w}^T{\\bf x}_3 + b =  \n",
    "\\left[\n",
    "\\begin{array}{r}\n",
    "1 \\\\ 1\n",
    "\\end{array}\n",
    "\\right]\n",
    "\\cdot \n",
    "\\left[\n",
    "\\begin{array}{r}\n",
    "2 \\\\2 \n",
    "\\end{array}\n",
    "\\right] - \\frac{5}{2} = 4 - \\frac{5}{2} = \\frac{3}{2}\n",
    "$$\n",
    "\n",
    "<br>\n",
    "\n",
    "For the points in the negative class, we have \n",
    "\n",
    "<br>\n",
    "\n",
    "$$\n",
    "{\\bf w}^T{\\bf x}_2 + b =  \n",
    "\\left[\n",
    "\\begin{array}{r}\n",
    "1 \\\\ 1\n",
    "\\end{array}\n",
    "\\right]\n",
    "\\cdot \n",
    "\\left[\n",
    "\\begin{array}{r}\n",
    "0 \\\\1 \n",
    "\\end{array}\n",
    "\\right] - \\frac{5}{2} = 1 - \\frac{5}{2} = -\\frac{3}{2}\n",
    "$$\n",
    "\n",
    "<br>\n",
    "\n",
    "$$\n",
    "{\\bf w}^T{\\bf x}_2 + b =  \n",
    "\\left[\n",
    "\\begin{array}{r}\n",
    "1 \\\\ 1\n",
    "\\end{array}\n",
    "\\right]\n",
    "\\cdot \n",
    "\\left[\n",
    "\\begin{array}{r}\n",
    "1 \\\\0 \n",
    "\\end{array}\n",
    "\\right] - \\frac{5}{2} = 1 - \\frac{5}{2} = -\\frac{3}{2}\n",
    "$$\n",
    "\n",
    "\n",
    "<br>\n",
    "\n",
    "OK, so to make the right-hand side values $\\pm 1$ we need to scale ${\\bf w}$ and $b$ by the reciprocal of $3/2$, which gives \n",
    "\n",
    "<br>\n",
    "\n",
    "$$\n",
    "{\\bf w} = \n",
    "\\left[\n",
    "\\begin{array}{r}\n",
    "2/3 \\\\ 2/3\n",
    "\\end{array}\n",
    "\\right]\n",
    "\\quad \\textrm{and} \\quad \n",
    "b = -\\frac{5}{3}\n",
    "$$\n",
    "\n",
    "<br>\n",
    "\n",
    "which gives us a decision boundary of the form ${\\bf w}^T{\\bf x} + b = \\frac{2}{3}x_1 + \\frac{2}{3}x_2 - \\frac{5}{3} = 0$\n",
    "\n",
    "The whole picture looks as follows:"
   ]
  },
  {
   "cell_type": "code",
   "execution_count": 120,
   "metadata": {
    "collapsed": false
   },
   "outputs": [
    {
     "data": {
      "image/png": "[encoded data removed]",
      "text/plain": [
       "<matplotlib.figure.Figure at 0x10f3b4b50>"
      ]
     },
     "metadata": {},
     "output_type": "display_data"
    }
   ],
   "source": [
    "prob2sol()"
   ]
  },
  {
   "cell_type": "markdown",
   "metadata": {},
   "source": [
    "**Q**: Which training examples are support vectors? "
   ]
  },
  {
   "cell_type": "markdown",
   "metadata": {},
   "source": [
    "**A**: This time all of the training examples are support vectors. "
   ]
  },
  {
   "cell_type": "markdown",
   "metadata": {},
   "source": [
    "**Q**: What is the maximal margin, $M$, in this example? "
   ]
  },
  {
   "cell_type": "markdown",
   "metadata": {},
   "source": [
    "**A**: Again, the formula for the maximal margin is $M = \\frac{1}{\\|{\\bf w}\\|}$.  Here we have $\\|{\\bf w}\\| = \\frac{2\\sqrt{2}}{\\sqrt{3}}$ which gives a margin of \n",
    "\n",
    "$$\n",
    "M = \\frac{1}{\\|{\\bf w}\\|} = \\frac{3}{2\\sqrt{2}}\n",
    "$$\n"
   ]
  },
  {
   "cell_type": "markdown",
   "metadata": {},
   "source": [
    "### Problem 3: Logistic Regression vs Support Vector Machine \n",
    "***\n",
    "\n",
    "We've seen that Logistic Regresion and Linear Support Vector Machines both produce decision boundaries of the form ${\\bf w}^T{\\bf x} + b = 0$. \n",
    "\n",
    "**Q**: What are the primary differences between LogReg and SVM? How are their decision boundaries different? "
   ]
  },
  {
   "cell_type": "markdown",
   "metadata": {},
   "source": [
    "**A**: Recall that in logistic regression we had a likelihood model that assumed that each piece of training data was i.i.d. Bernoulli of the form \n",
    "\n",
    "$$\n",
    "L({\\bf w},b) = \\displaystyle\\prod_{i=1}^m \\textrm{sigm}({\\bf w}^T{\\bf x} + b)^{~y_i} \\left[1-\\textrm{sigm}({\\bf w}^T{\\bf x}+b)\\right]^{~1 - y_i} \n",
    "$$\n",
    "\n",
    "We found the weights ${\\bf w}$ and the bias $b$ in LogReg by maximizing the log of the likelihood function.  In the LogReg case each and every training point affects the estimation of the weights and the bias.  \n",
    "\n",
    "On the other hand, in the SVM case, the weights and bias are chosen to maximize the margin between the training examples **closest** to the decision boundary (i.e. the support vectors).  The other examples in the training set technically are only required in order to determine the support vectors. "
   ]
  },
  {
   "cell_type": "markdown",
   "metadata": {},
   "source": [
    "### Problem 4: Naive Bayes as a Linear Classifier \n",
    "***\n",
    "\n",
    "Consider the SPAM vs. HAM problem in the case of binary feature vectors (i.e. ${\\bf x}$ is a vector of length $\\left| V \\right|$ with each component $x_k = 1$ if word $i$ is present in the email and $x_k = 0$ if word $k$ is not present).  The decision rule for Naive Bayes is as follows:  \n",
    "\n",
    "$~~~~~~$${\\bf x}$ is SPAM if <br>\n",
    "$~~~~~~$$p(SPAM ~|~ {\\bf x}) \\geq p(HAM ~|~ {\\bf x})$<br>\n",
    "$~~~~~~$else ${\\bf x}$ is HAM\n",
    "\n",
    "**Q**:  Is Naive Bayes a linear classifier in this setting?  Does it form a decision boundary of the form ${\\bf w}^T{\\bf x} + b = 0$?  If so, what are the weights and what is the bias? "
   ]
  },
  {
   "cell_type": "markdown",
   "metadata": {},
   "source": [
    "**A**: The decision rule can be cast as a linear classifier if we consider the problem in terms of **log-odds**.  The Naive Bayes SPAM score for a particular document was of the form \n",
    "\n",
    "$$\n",
    "p(SPAM) \\displaystyle\\prod_{\\textrm{word } k \\textrm{ in doc}} p(x_k ~|~ SPAM)\n",
    "$$\n",
    "\n",
    "where we estimated the probabilities by counting occurrences of each word in each class in the training set.  Assuming we're using binary text counts and that we denote the estimates of relevant probabilities as $\\theta_c$ for the priors and and $\\theta_{kc}$ for the class-conditional probabilities, then we can write the two probability scores as \n",
    "\n",
    "$$\n",
    "\\hat{p}(SPAM ~|~ {\\bf x}) =  \\theta_s \\displaystyle\\prod_{k=1}^{|V|} \\theta_{ks}^{~x_k}\n",
    "\\quad \\textrm{and} \\quad \n",
    "\\hat{p}(HAM ~|~ {\\bf x}) =  \\theta_h \\displaystyle\\prod_{k=1}^{|V|} \\theta_{kh}^{~x_k}\n",
    "$$\n",
    "\n",
    "Now, forming the log-odds, we have \n",
    "\n",
    "$$\n",
    "\\log \\left(\\frac{\\hat{p}(SPAM ~|~ {\\bf x})}{\\hat{p}(HAM ~|~ {\\bf x})} \\right)\n",
    "=\n",
    "\\log \\left[ \\frac{\\theta_s}{\\theta_h} \\displaystyle\\prod_{k=1}^{|V|} \\left( \\frac{\\theta_{ks}}{\\theta_{kh}} \\right)^{~x_k} \\right]\n",
    "= \\log\\left( \\frac{\\theta_s}{\\theta_h} \\right) + \\sum_{k=1}^{|V|} x_k \\log \\left( \\frac{\\theta_{ks}}{\\theta_{kh}} \\right)\n",
    "$$\n",
    "\n",
    "Notice that the decision boundary is defined when there is an equal probability that the email is SPAM or HAM.  In this case the log-odds are 0.  Setting \n",
    "\n",
    "$$\n",
    "b = \\log\\left( \\frac{\\theta_s}{\\theta_h} \\right) \\quad \\textrm{and} \\quad  w_k = \\log \\left( \\frac{\\theta_{ks}}{\\theta_{kh}} \\right)\n",
    "$$\n",
    "\n",
    "gives us the linear decision boundary ${\\bf w}^T{\\bf x} + b = 0$\n"
   ]
  },
  {
   "cell_type": "markdown",
   "metadata": {},
   "source": [
    "<br><br><br><br>\n",
    "<br><br><br><br>\n",
    "<br><br><br><br>\n",
    "\n",
    "### Helper Functions\n",
    "***"
   ]
  },
  {
   "cell_type": "code",
   "execution_count": 121,
   "metadata": {
    "collapsed": false
   },
   "outputs": [],
   "source": [
    "import numpy as np\n",
    "import matplotlib.pyplot as plt\n",
    "%matplotlib inline\n",
    "\n",
    "def prob1plot():\n",
    "    mycolors = {\"blue\": \"steelblue\", \"red\": \"#a76c6e\", \"green\": \"#6a9373\"}\n",
    "    X = np.array([[1,1], [2,0], [2,3]])\n",
    "    y = np.array([-1,-1,1])\n",
    "    colors = [mycolors[\"blue\"] if yi==-1 else mycolors[\"red\"] for yi in y]\n",
    "    fig = plt.figure(figsize=(8,8))\n",
    "    ax = fig.add_subplot(111) \n",
    "    plt.scatter(X[:,0], X[:,1], color=colors, s=200, alpha=0.9)\n",
    "    ax.xaxis.grid(True, color=\"gray\", ls='-')\n",
    "    ax.yaxis.grid(True, color=\"gray\", ls='-')\n",
    "    ax.spines['top'].set_visible(False)\n",
    "    ax.spines['right'].set_visible(False)\n",
    "    ax.spines['bottom'].set_visible(False)\n",
    "    ax.spines['left'].set_visible(False)\n",
    "    ax.text(1.8,-0.2,r\"${\\bf x}_1$\", fontsize=16)\n",
    "    ax.text(0.8,0.8,r\"${\\bf x}_2$\", fontsize=16)\n",
    "    ax.text(2.1,3.1,r\"${\\bf x}_3$\", fontsize=16)\n",
    "    plt.xticks([0, 1,2,3], fontsize=16)\n",
    "    plt.yticks([0, 1,2,3], fontsize=16)\n",
    "    ax.tick_params(axis=u'both', which=u'both',length=0)\n",
    "    plt.xlim([-0.5,3.5])\n",
    "    plt.ylim([-0.5,3.5])\n",
    "    \n",
    "def prob2plot():\n",
    "    mycolors = {\"blue\": \"steelblue\", \"red\": \"#a76c6e\", \"green\": \"#6a9373\"}\n",
    "    X = np.array([[0,1], [1,0], [2,2]])\n",
    "    y = np.array([-1,-1,1])\n",
    "    colors = [mycolors[\"blue\"] if yi==-1 else mycolors[\"red\"] for yi in y]\n",
    "    fig = plt.figure(figsize=(8,8))\n",
    "    ax = fig.add_subplot(111) \n",
    "    plt.scatter(X[:,0], X[:,1], color=colors, s=200, alpha=0.9)\n",
    "    ax.xaxis.grid(True, color=\"gray\", ls='-')\n",
    "    ax.yaxis.grid(True, color=\"gray\", ls='-')\n",
    "    ax.spines['top'].set_visible(False)\n",
    "    ax.spines['right'].set_visible(False)\n",
    "    ax.spines['bottom'].set_visible(False)\n",
    "    ax.spines['left'].set_visible(False)\n",
    "    ax.text(0.8,-0.2,r\"${\\bf x}_1$\", fontsize=16)\n",
    "    ax.text(-0.2,0.8,r\"${\\bf x}_2$\", fontsize=16)\n",
    "    ax.text(2.1,2.1,r\"${\\bf x}_3$\", fontsize=16)\n",
    "    plt.xticks([0, 1,2,3], fontsize=16)\n",
    "    plt.yticks([0, 1,2,3], fontsize=16)\n",
    "    ax.tick_params(axis=u'both', which=u'both',length=0)\n",
    "    plt.xlim([-0.5,3.5])\n",
    "    plt.ylim([-0.5,3.5])"
   ]
  },
  {
   "cell_type": "code",
   "execution_count": 122,
   "metadata": {
    "collapsed": false
   },
   "outputs": [],
   "source": [
    "def prob1sol(): \n",
    "    mycolors = {\"blue\": \"steelblue\", \"red\": \"#a76c6e\", \"green\": \"#6a9373\"}\n",
    "    X = np.array([[1,1], [2,0], [2,3]])\n",
    "    y = np.array([-1,-1,1])\n",
    "    colors = [mycolors[\"blue\"] if yi==-1 else mycolors[\"red\"] for yi in y]\n",
    "    fig = plt.figure(figsize=(8,8))\n",
    "    ax = fig.add_subplot(111) \n",
    "    plt.scatter(X[:,0], X[:,1], color=colors, s=200, alpha=0.9)\n",
    "    plt.scatter([3./2], [2.], color='gray', s=200, alpha=0.9)\n",
    "    ax.xaxis.grid(True, color=\"gray\", ls='-')\n",
    "    ax.yaxis.grid(True, color=\"gray\", ls='-')\n",
    "    ax.spines['top'].set_visible(False)\n",
    "    ax.spines['right'].set_visible(False)\n",
    "    ax.spines['bottom'].set_visible(False)\n",
    "    ax.spines['left'].set_visible(False)\n",
    "    ax.text(1.8,-0.2,r\"${\\bf x}_1$\", fontsize=16)\n",
    "    ax.text(0.8,0.8,r\"${\\bf x}_2$\", fontsize=16)\n",
    "    ax.text(2.1,3.1,r\"${\\bf x}_3$\", fontsize=16)\n",
    "    ax.text(1.6,2.1,r\"${\\bf x}_m$\", fontsize=16)\n",
    "    plt.xticks([0, 1,2,3], fontsize=16)\n",
    "    plt.yticks([0, 1,2,3], fontsize=16)\n",
    "    ax.tick_params(axis=u'both', which=u'both',length=0)\n",
    "    x = np.linspace(-0.4,3.4,10)\n",
    "    plt.plot(x, 11./4 - x/2.0, color=\"gray\")\n",
    "    plt.plot(x, 11./4 -5./4 - x/2.0, color=\"gray\", ls='--', alpha=0.75)\n",
    "    plt.plot(x, 11./4 +5./4 - x/2.0, color=\"gray\", ls='--', alpha=0.75)\n",
    "    plt.xlim([-0.5,3.5])\n",
    "    plt.ylim([-0.5,3.5])\n",
    "    \n",
    "def prob2sol(): \n",
    "    mycolors = {\"blue\": \"steelblue\", \"red\": \"#a76c6e\", \"green\": \"#6a9373\"}\n",
    "    X = np.array([[1,0], [0,1], [2,2]])\n",
    "    y = np.array([-1,-1,1])\n",
    "    colors = [mycolors[\"blue\"] if yi==-1 else mycolors[\"red\"] for yi in y]\n",
    "    fig = plt.figure(figsize=(8,8))\n",
    "    ax = fig.add_subplot(111) \n",
    "    plt.scatter(X[:,0], X[:,1], color=colors, s=200, alpha=0.9)\n",
    "    plt.scatter([5./4], [5./4], color='gray', s=200, alpha=0.9)\n",
    "    ax.xaxis.grid(True, color=\"gray\", ls='-')\n",
    "    ax.yaxis.grid(True, color=\"gray\", ls='-')\n",
    "    ax.spines['top'].set_visible(False)\n",
    "    ax.spines['right'].set_visible(False)\n",
    "    ax.spines['bottom'].set_visible(False)\n",
    "    ax.spines['left'].set_visible(False)\n",
    "    ax.text(0.8,-0.2,r\"${\\bf x}_1$\", fontsize=16)\n",
    "    ax.text(-0.2,0.8,r\"${\\bf x}_2$\", fontsize=16)\n",
    "    ax.text(2.1,2.1,r\"${\\bf x}_3$\", fontsize=16)\n",
    "    ax.text(1.3,1.3,r\"${\\bf x}_m$\", fontsize=16)\n",
    "    plt.xticks([0, 1,2,3], fontsize=16)\n",
    "    plt.yticks([0, 1,2,3], fontsize=16)\n",
    "    ax.tick_params(axis=u'both', which=u'both',length=0)\n",
    "    x = np.linspace(-0.4,3.4,10)\n",
    "    plt.plot(x, 5./2 - x, color=\"gray\")\n",
    "    plt.plot(x, 5./2 + 3./2 - x, color=\"gray\", ls='--', alpha=0.7)\n",
    "    plt.plot(x, 5./2 - 3./2 - x, color=\"gray\", ls='--', alpha=0.7)\n",
    "    plt.xlim([-0.5,3.5])\n",
    "    plt.ylim([-0.5,3.5])"
   ]
  },
  {
   "cell_type": "code",
   "execution_count": 1,
   "metadata": {
    "collapsed": false
   },
   "outputs": [
    {
     "data": {
      "text/html": [
       "\n",
       "<style>\n",
       ".MathJax nobr>span.math>span{border-left-width:0 !important};\n",
       "</style>\n"
      ],
      "text/plain": [
       "<IPython.core.display.HTML object>"
      ]
     },
     "execution_count": 1,
     "metadata": {},
     "output_type": "execute_result"
    }
   ],
   "source": [
    "from IPython.core.display import HTML\n",
    "HTML(\"\"\"\n",
    "<style>\n",
    ".MathJax nobr>span.math>span{border-left-width:0 !important};\n",
    "</style>\n",
    "\"\"\")"
   ]
  }
 ],
 "metadata": {
  "kernelspec": {
   "display_name": "Python 2",
   "language": "python",
   "name": "python2"
  },
  "language_info": {
   "codemirror_mode": {
    "name": "ipython",
    "version": 2
   },
   "file_extension": ".py",
   "mimetype": "text/x-python",
   "name": "python",
   "nbconvert_exporter": "python",
   "pygments_lexer": "ipython2",
   "version": "2.7.12"
  }
 },
 "nbformat": 4,
 "nbformat_minor": 0
}
